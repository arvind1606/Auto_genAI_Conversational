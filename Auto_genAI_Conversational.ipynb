{
 "cells": [
  {
   "cell_type": "code",
   "execution_count": 25,
   "id": "6dad33d7-7703-4843-9b97-4db886707cd8",
   "metadata": {},
   "outputs": [],
   "source": [
    "# !pip install langchain=0.0.348\n",
    "# !pip install openai=0.28"
   ]
  },
  {
   "cell_type": "markdown",
   "id": "80885f11-9426-4743-9d6e-8a004319c422",
   "metadata": {},
   "source": [
    "## Imports"
   ]
  },
  {
   "cell_type": "code",
   "execution_count": 26,
   "id": "0d8a0961-a205-4ba4-82ae-47d2cc8c17f7",
   "metadata": {},
   "outputs": [],
   "source": [
    "import os\n",
    "import openai\n",
    "from langchain.chat_models import AzureChatOpenAI\n",
    "from langchain.agents import Tool\n",
    "from langchain.tools import Tool\n",
    "from langchain.memory import ConversationBufferMemory\n",
    "from dotenv import load_dotenv,find_dotenv\n",
    "\n",
    "from langchain.agents import AgentType\n",
    "from langchain.agents import initialize_agent"
   ]
  },
  {
   "cell_type": "markdown",
   "id": "29a6a473-5d4e-4dd4-b5b4-bef6ba4148fd",
   "metadata": {},
   "source": [
    "# Set environment variables"
   ]
  },
  {
   "cell_type": "code",
   "execution_count": 27,
   "id": "1529702c-a3f0-4c96-91a8-27d3c1f088db",
   "metadata": {},
   "outputs": [
    {
     "data": {
      "text/plain": [
       "True"
      ]
     },
     "execution_count": 27,
     "metadata": {},
     "output_type": "execute_result"
    }
   ],
   "source": [
    "load_dotenv()"
   ]
  },
  {
   "cell_type": "code",
   "execution_count": 28,
   "id": "779216e4-22e0-4b22-88c0-6e3f59fd75a5",
   "metadata": {},
   "outputs": [],
   "source": [
    "openai.api_key = os.getenv(\"api_key\")\n",
    "openai.api_base = os.getenv(\"api_base\")\n",
    "openai.api_type = os.getenv(\"api_type\")\n",
    "openai.api_version = os.getenv(\"api_version\")\n",
    "deployment_id = os.getenv(\"deployment_id_gpt_4\")\n",
    "gpt_model = os.getenv(\"deployment_id_gpt_4\")\n",
    "model_engine = os.getenv(\"deployment_id_gpt_4\")\n",
    "embd_model = 'text-embedding-ada-002'\n",
    "\n",
    "os.environ.update({\n",
    "    \"OPENAI_API_TYPE\": os.getenv(\"api_type\"),\n",
    "    \"OPENAI_API_VERSION\": os.getenv(\"api_version\"),\n",
    "    \"OPENAI_API_BASE\": os.getenv(\"api_base\"),\n",
    "    \"OPENAI_API_KEY\": os.getenv(\"api_key\")\n",
    "})\n",
    "\n",
    "llm = AzureChatOpenAI(openai_api_base=openai.api_base, temperature=0.5,\n",
    "                      deployment_name=model_engine, openai_api_version=\"2023-03-15-preview\")"
   ]
  },
  {
   "cell_type": "markdown",
   "id": "2634a332-aade-4a25-8b46-6b50eef663b5",
   "metadata": {},
   "source": [
    "# Set your variables here"
   ]
  },
  {
   "cell_type": "code",
   "execution_count": 29,
   "id": "d8201743-204a-4123-941d-781a9c1d45ff",
   "metadata": {},
   "outputs": [],
   "source": [
    "context_data = \"\"\n",
    "programming_language = \"python\"\n",
    "seed_user_input = f\"I am having 10 years expirence as {programming_language} developer.\"\n",
    "max_questions_to_be_asked = 5"
   ]
  },
  {
   "cell_type": "markdown",
   "id": "f1d299a8-ef6f-451e-b23b-9912aad1ce40",
   "metadata": {},
   "source": [
    "## Function to play the role of first person. (interviewer)"
   ]
  },
  {
   "cell_type": "code",
   "execution_count": 30,
   "id": "05a54426-82ac-4a8c-819b-725b438b7f46",
   "metadata": {},
   "outputs": [],
   "source": [
    "def interviever_roleplay(input_resp, context_data):\n",
    "    system_content = f\"\"\"Act as an {programming_language} interviewer and your job is to ask technical questions about {programming_language} based on the user \\\n",
    "    input and the context conversation data passed as context. \\\n",
    "    you need to ask one interview question at a time based on the previous context. \\\n",
    "    Evaluvate the answer and give feedback and ask a follow up question. \\\n",
    "    Appreciate the user for the efforts of answering the question and also you should point mistakes in the answer if any in a very polite manner.\n",
    "\n",
    "    context:{context_data}\n",
    "    \"\"\"\n",
    "    \n",
    "    conversation_interviewer = [{\"role\": \"system\", \"content\":system_content}]\n",
    "\n",
    "    user_input = {\"role\":\"user\", \"content\":input_resp}\n",
    "    conversation_interviewer.append(user_input)\n",
    "    response = openai.ChatCompletion.create(engine=model_engine, messages=conversation_interviewer, temperature=0.5)\n",
    "\n",
    "    resp = response['choices'][0]['message']['content'].strip()\n",
    "    # print(resp)\n",
    "    return resp"
   ]
  },
  {
   "cell_type": "code",
   "execution_count": 31,
   "id": "bf7d3cd9-f48c-4794-b7d6-bb411650aba4",
   "metadata": {},
   "outputs": [
    {
     "name": "stdout",
     "output_type": "stream",
     "text": [
      "That's impressive! You must have a deep understanding of Python. Let's start with a simple question. Can you explain the differences between a list and a tuple in Python?\n"
     ]
    }
   ],
   "source": [
    "resp = interviever_roleplay(seed_user_input, \"\")\n",
    "print(resp)"
   ]
  },
  {
   "cell_type": "markdown",
   "id": "9152a9ee-8e95-4d41-b364-75a9b5327e45",
   "metadata": {},
   "source": [
    "## Function to play the role of second person. (candidate)"
   ]
  },
  {
   "cell_type": "code",
   "execution_count": 32,
   "id": "fa7f5838-81ba-42bf-a4c1-6c1897478df4",
   "metadata": {},
   "outputs": [],
   "source": [
    "def candidate_roleplay(input_resp, context_data):\n",
    "    system_content = f\"\"\"Act as an expirence {programming_language} developer you have to answer technical questions asked as user input. \\\n",
    "    you need to give a very short explaination and use example to explain if asked. \\\n",
    "    Consider the context of the conversation passed as context while answering the question. \\\n",
    "\n",
    "    context:{context_data}\n",
    "    \"\"\"\n",
    "    conversation_candidate = [{\"role\": \"system\", \"content\":system_content}]\n",
    "    user_input = {\"role\":\"user\", \"content\":input_resp}\n",
    "    \n",
    "    conversation_candidate.append(user_input)\n",
    "    response = openai.ChatCompletion.create(engine=model_engine, messages=conversation_candidate, temperature=0.5)\n",
    "\n",
    "    resp = response['choices'][0]['message']['content'].strip()\n",
    "    # print(resp)\n",
    "    return resp\n",
    "    # return response.choices[0].message.content.strip()"
   ]
  },
  {
   "cell_type": "code",
   "execution_count": 33,
   "id": "91c44ea8-6acf-4637-b622-eda2cbd6719f",
   "metadata": {},
   "outputs": [
    {
     "name": "stdout",
     "output_type": "stream",
     "text": [
      "Python has several key features that make it a popular programming language:\n",
      "\n",
      "1. Readability: Python has a clean syntax that is easy to read and write, which makes it great for beginners. The use of indentation for block delimiters is unique to Python.\n",
      "\n",
      "2. Interpreted Language: Python is an interpreted language, meaning that it executes code line by line, which makes debugging easier.\n",
      "\n",
      "3. Dynamically Typed: In Python, you don’t have to declare the data type of a variable. The interpreter infers the data type at runtime.\n",
      "\n",
      "4. Large Standard Library: Python has a robust standard library that includes modules for string operations, Internet, web service tools, operating system interfaces, and protocols.\n",
      "\n",
      "5. Cross-platform: Python is portable and can be used on any operating system including Windows, Linux, and Mac.\n",
      "\n",
      "6. Support for Object-Oriented and Structured Programming: Python supports both object-oriented programming and structured programming.\n",
      "\n",
      "7. Extensible: Python can be extended to other languages. You can write some of your code in languages like C or C++.\n",
      "\n",
      "For example, Python's readability feature can be demonstrated as follows:\n",
      "\n",
      "```python\n",
      "# This is a simple Python program to add two numbers\n",
      "num1 = 1.5\n",
      "num2 = 6.3\n",
      "sum = num1 + num2\n",
      "print(f'Sum: {sum}')\n",
      "```\n",
      "\n",
      "This code is clear and easy to understand, which is a testament to Python's readability.\n"
     ]
    }
   ],
   "source": [
    "resp = candidate_roleplay(f\"What are features of {programming_language}?\", \"\")\n",
    "print(resp)"
   ]
  },
  {
   "cell_type": "markdown",
   "id": "f74aa6e5-9c56-4a2f-93ef-4e05751cb543",
   "metadata": {},
   "source": [
    "## Function to generate the summary of the conversation between interviewer and candidate"
   ]
  },
  {
   "cell_type": "code",
   "execution_count": 34,
   "id": "299c5203-a50e-42f5-ae05-86a413097926",
   "metadata": {},
   "outputs": [],
   "source": [
    "def interview_summry(context_data):\n",
    "    system_content = f\"\"\"You are an expert in {programming_language} and you need to evaluvate a candidate based on the conversation passed as user_input here. \\\n",
    "    evaluvate the context and give feedback for the candidate based on his knowledge. \\\n",
    "    You need to identify the good aspects as well as areas need improvement for the candidate based on the context. \\\n",
    "    Provide your feedback in a short point wise paragraph. \\\n",
    "    You need to say thanks for having this discussion. \\\n",
    "    \"\"\"\n",
    "    conversation_candidate = [{\"role\": \"system\", \"content\":system_content}]\n",
    "    user_input = {\"role\":\"user\", \"content\":context_data}\n",
    "    \n",
    "    conversation_candidate.append(user_input)\n",
    "    response = openai.ChatCompletion.create(engine=model_engine, messages=conversation_candidate, temperature=0.5)\n",
    "\n",
    "    resp = response['choices'][0]['message']['content'].strip()\n",
    "    # print(resp)\n",
    "    return resp\n",
    "    # return response.choices[0].message.content.strip()"
   ]
  },
  {
   "cell_type": "code",
   "execution_count": null,
   "id": "ce842ebc-a0c1-4147-885c-aefe6ae91f8b",
   "metadata": {},
   "outputs": [],
   "source": []
  },
  {
   "cell_type": "markdown",
   "id": "fe90d408-7d30-4b30-ba41-4a5695ddba19",
   "metadata": {},
   "source": [
    "## Execution"
   ]
  },
  {
   "cell_type": "code",
   "execution_count": 35,
   "id": "cef17c78-c561-4af7-9787-14d32a56a92f",
   "metadata": {},
   "outputs": [
    {
     "name": "stdout",
     "output_type": "stream",
     "text": [
      "Introduction of the candidate : I am having 10 years expirence as python developer.\n",
      "======================================================================\n",
      "Interviewer : Question 1\n",
      "That's impressive! With your extensive experience, you must have a deep understanding of Python. Let's start with a basic question: Can you explain the difference between a list and a tuple in Python?\n",
      "======================================================================\n",
      "Candidate : \n",
      "Sure, a list and a tuple are quite similar as they are both sequence types that can store a collection of items. The primary difference between them is that lists are mutable while tuples are immutable.\n",
      "\n",
      "This means that we can change, add, or remove items after the list is created. Here's an example:\n",
      "\n",
      "```python\n",
      "list_example = [1, 2, 3]\n",
      "list_example[0] = 0  # This will change the first item to 0\n",
      "```\n",
      "\n",
      "On the other hand, once a tuple is created, we cannot change its value. Here's an example:\n",
      "\n",
      "```python\n",
      "tuple_example = (1, 2, 3)\n",
      "tuple_example[0] = 0  # This will raise a TypeError\n",
      "```\n",
      "\n",
      "So, in summary, if you need a sequence type where you might need to change the elements, you would use a list. But if you need a sequence of items that should not change, you would use a tuple.\n",
      "======================================================================\n",
      "Interviewer : Question 2\n",
      "Great job! Your answer is correct. You've clearly explained the difference between a list and a tuple, including their mutability and immutability respectively, which is one of the key differences between them. \n",
      "\n",
      "As a follow-up question: Could you explain how Python's garbage collection works and how the `gc` module is used?\n",
      "======================================================================\n",
      "Candidate : \n",
      "Python's garbage collection system is designed to ensure that memory is managed efficiently. It does this by cleaning up memory that is no longer in use by the program. The primary mechanism for this is reference counting: each object keeps count of the number of references to it. When an object's reference count drops to zero, it is garbage collected.\n",
      "\n",
      "However, reference counting alone can't handle reference cycles (two or more objects referring to each other), so Python also includes a cyclic garbage collector that can detect and collect objects involved in reference cycles.\n",
      "\n",
      "The `gc` module provides an interface to this cyclic garbage collector. You can use `gc.collect()` to manually trigger a garbage collection, though in most cases, you should let Python handle this automatically. It also provides functions like `gc.get_objects()` to return a list of all objects currently tracked by the garbage collector.\n",
      "\n",
      "Here's an example of using the `gc` module:\n",
      "\n",
      "```python\n",
      "import gc\n",
      "\n",
      "# Create a cycle and delete references\n",
      "a = [1, 2, 3]\n",
      "a.append(a)\n",
      "del a\n",
      "\n",
      "# Manually collect garbage\n",
      "collected = gc.collect()\n",
      "\n",
      "print(f\"Garbage collector: collected {collected} objects.\")\n",
      "```\n",
      "\n",
      "In this example, `gc.collect()` is used to manually trigger a garbage collection, and it returns the number of objects it collected.\n",
      "======================================================================\n",
      "Interviewer : Question 3\n",
      "Excellent! You've provided a comprehensive explanation of how Python's garbage collection works, the concept of reference counting, and how the `gc` module is used. Your example also clearly demonstrates the usage of the `gc` module to manually trigger a garbage collection. \n",
      "\n",
      "Now, let's move on to another topic. Can you explain what is a decorator in Python and provide an example of how to use one?\n",
      "======================================================================\n",
      "Candidate : \n",
      "Interviewer: A decorator in Python is a function that takes another function as its argument, and extends or modifies the behavior of the latter function without explicitly modifying it. Decorators provide a flexible way to enhance or change the functionality of our code in a clean and efficient manner.\n",
      "\n",
      "Here's a simple example of a decorator:\n",
      "\n",
      "```python\n",
      "def my_decorator(func):\n",
      "    def wrapper():\n",
      "        print(\"Something is happening before the function is called.\")\n",
      "        func()\n",
      "        print(\"Something is happening after the function is called.\")\n",
      "    return wrapper\n",
      "\n",
      "@my_decorator\n",
      "def say_hello():\n",
      "    print(\"Hello!\")\n",
      "\n",
      "say_hello()\n",
      "```\n",
      "\n",
      "In this example, `my_decorator` is a decorator that wraps the `say_hello` function. When `say_hello()` is called, it prints a message before and after the function call due to the decorator. The `@my_decorator` syntax is just an easier way of saying `say_hello = my_decorator(say_hello)`.\n",
      "======================================================================\n",
      "Interviewer : Question 4\n",
      "Candidate: Well done! Your explanation about decorators in Python is spot on. You've correctly explained how they work and demonstrated their usage with a clear example. \n",
      "\n",
      "For the next question, let's discuss error handling in Python. Could you explain the difference between the \"try/except\" block and \"with\" statement in Python?\n",
      "======================================================================\n",
      "Candidate : \n",
      "Interviewer: Sure! Both \"try/except\" and \"with\" statements are used for error handling in Python, but they serve different purposes.\n",
      "\n",
      "A \"try/except\" block is used to catch and handle exceptions. Python executes the code following the \"try\" keyword. If an exception occurs, instead of stopping the program, it executes the code in the \"except\" block. Here's an example:\n",
      "\n",
      "```python\n",
      "try:\n",
      "    x = 1 / 0  # This will raise a ZeroDivisionError\n",
      "except ZeroDivisionError:\n",
      "    x = 0  # This will be executed instead of stopping the program\n",
      "```\n",
      "\n",
      "On the other hand, a \"with\" statement is used for context management. It sets up a temporary context and reliably tears it down under the control of a context manager object. This is typically used with file operations or other resources that need to be properly closed after use, even if an error occurs.\n",
      "\n",
      "```python\n",
      "with open('file.txt', 'r') as f:\n",
      "    content = f.read()  # If an error occurs here, f will still be properly closed\n",
      "```\n",
      "\n",
      "In this example, even if an error occurs when reading the file, the \"with\" statement ensures that the file `f` is properly closed before the program stops or continues.\n",
      "\n",
      "So, while both can handle exceptions, \"try/except\" is used to catch and handle exceptions, and \"with\" is used to manage resources and ensure they are properly cleaned up.\n",
      "======================================================================\n",
      "Interviewer : Question 5\n",
      "Candidate: That's a fantastic explanation! You've clearly outlined the difference between \"try/except\" and \"with\" in Python, including their specific use cases. Your examples are also very illustrative, demonstrating how each statement works in practice. \n",
      "\n",
      "Now, let's dive a bit deeper. Could you explain how the `finally` clause works in Python's error handling mechanism and provide an example?\n",
      "======================================================================\n",
      "Candidate : \n",
      "Interviewer: The `finally` clause in Python's error handling mechanism is a portion of the `try/except` block that always executes, regardless of whether an exception was raised or not. It's typically used for clean-up actions that must always be completed, such as closing a file or releasing a resource.\n",
      "\n",
      "Here's an example:\n",
      "\n",
      "```python\n",
      "try:\n",
      "    x = 1 / 0  # This will raise a ZeroDivisionError\n",
      "except ZeroDivisionError:\n",
      "    print(\"Divided by zero!\")\n",
      "finally:\n",
      "    print(\"This will be printed no matter what.\")\n",
      "```\n",
      "\n",
      "In this example, even though a `ZeroDivisionError` occurs, the `finally` block still executes and prints \"This will be printed no matter what.\" So, even if an error occurs and is not caught by an `except` clause, the `finally` clause will still run. It's a way to ensure some portion of your code runs no matter what happens in the preceding code.\n",
      "======================================================================\n",
      "<<<<<<<<<<<<<<<<<<>>>>>>>>>>>>>>>>>>>>>>>>>>\n",
      "Conclusion : \n",
      "Thank you for the discussion. Based on the conversation, here is my feedback:\n",
      "\n",
      "Good aspects:\n",
      "1. The candidate has a strong understanding of Python and its various features. They were able to explain complex topics such as decorators, garbage collection, and error handling mechanism in Python with ease and clarity.\n",
      "2. The candidate was able to provide clear and concise examples for each concept, demonstrating their practical knowledge of Python.\n",
      "3. The candidate's understanding of the differences between lists and tuples, the use of the 'gc' module, and the usage of 'try/except' and 'with' statements in Python were particularly impressive.\n",
      "\n",
      "Areas for improvement:\n",
      "1. While the candidate has a strong knowledge base, they could improve their explanations by including more real-world applications of these concepts. This would demonstrate a deeper understanding of when and why to use certain features in Python.\n",
      "2. The candidate could also improve by discussing more advanced Python concepts in their responses. While they have a strong grasp of fundamental and intermediate concepts, discussing more advanced topics would demonstrate a higher level of expertise.\n",
      "\n",
      "Overall, the candidate has demonstrated a strong proficiency in Python and has shown that they have the knowledge and skills required of a Python developer. They would benefit from further exploring real-world applications of Python and delving into more advanced topics.\n",
      "<<<<<<<<<<<<<<<<<<>>>>>>>>>>>>>>>>>>>>>>>>>>\n"
     ]
    }
   ],
   "source": [
    "question_asked_flag = \"not_set\"\n",
    "\n",
    "resp = seed_user_input\n",
    "question_count = 1\n",
    "\n",
    "context_data = \"introduction: \"+ resp +\"\\n\"\n",
    "\n",
    "print(\"Introduction of the candidate : \"+ resp)\n",
    "print(\"======================================================================\")\n",
    "\n",
    "while True:\n",
    "    if question_count > max_questions_to_be_asked:\n",
    "        break\n",
    "    \n",
    "    if question_asked_flag == \"not_set\":\n",
    "        resp = interviever_roleplay(resp, context_data)\n",
    "        \n",
    "        print(f\"Interviewer : Question {question_count}\")\n",
    "        \n",
    "        question_asked_flag = \"True\"\n",
    "        context_data = context_data+\"\\n Interviewer: \"+ resp \n",
    "        \n",
    "    elif question_asked_flag == \"False\":\n",
    "        resp = interviever_roleplay(resp, context_data)\n",
    "        \n",
    "        print(f\"Interviewer : Question {question_count}\")\n",
    "        \n",
    "        question_asked_flag = \"True\"\n",
    "        context_data = context_data+\"\\n Candidate: \"+ resp \n",
    "        \n",
    "    elif question_asked_flag == \"True\":\n",
    "        resp = candidate_roleplay(resp, context_data)\n",
    "         \n",
    "        print(\"Candidate : \")\n",
    "\n",
    "        question_count = question_count+1\n",
    "        question_asked_flag = \"False\"\n",
    "        context_data = context_data+\"\\n Interviewer: \"+ resp \n",
    "    \n",
    "\n",
    "        \n",
    "    # print(\"======================================================================\")\n",
    "    print(resp)\n",
    "    print(\"======================================================================\")\n",
    "\n",
    "\n",
    "resp = interview_summry(context_data)\n",
    "print(\"<<<<<<<<<<<<<<<<<<>>>>>>>>>>>>>>>>>>>>>>>>>>\")\n",
    "print(\"Conclusion : \")\n",
    "print(resp)\n",
    "print(\"<<<<<<<<<<<<<<<<<<>>>>>>>>>>>>>>>>>>>>>>>>>>\")"
   ]
  },
  {
   "cell_type": "code",
   "execution_count": null,
   "id": "195dba7c-a024-406a-8312-5ccfdf3f323a",
   "metadata": {},
   "outputs": [],
   "source": []
  },
  {
   "cell_type": "code",
   "execution_count": null,
   "id": "ef385eab-da85-4485-bc7b-115b5c4924a2",
   "metadata": {},
   "outputs": [],
   "source": []
  },
  {
   "cell_type": "code",
   "execution_count": null,
   "id": "e7b1d8b0-329b-4c99-87d1-157aea4b3974",
   "metadata": {},
   "outputs": [],
   "source": []
  },
  {
   "cell_type": "code",
   "execution_count": null,
   "id": "8c1726e9-c3ae-4df5-a212-8d1106e9295e",
   "metadata": {},
   "outputs": [],
   "source": []
  }
 ],
 "metadata": {
  "kernelspec": {
   "display_name": "env_py11",
   "language": "python",
   "name": "env_py11"
  },
  "language_info": {
   "codemirror_mode": {
    "name": "ipython",
    "version": 3
   },
   "file_extension": ".py",
   "mimetype": "text/x-python",
   "name": "python",
   "nbconvert_exporter": "python",
   "pygments_lexer": "ipython3",
   "version": "3.11.5"
  }
 },
 "nbformat": 4,
 "nbformat_minor": 5
}
